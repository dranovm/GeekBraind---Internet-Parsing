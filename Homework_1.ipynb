{
 "cells": [
  {
   "cell_type": "markdown",
   "metadata": {},
   "source": [
    "## Урок 1. Паринг API\n",
    "### Задание 1. \n",
    "\n",
    "Посмотреть документацию к API GitHub, разобраться как вывести список репозиториев для конкретного пользователя, сохранить JSON-вывод в файле *.json.\n"
   ]
  },
  {
   "cell_type": "code",
   "execution_count": 25,
   "metadata": {},
   "outputs": [
    {
     "name": "stdout",
     "output_type": "stream",
     "text": [
      "'Количество репозиториев у пользователя dranovm - 3 :'\n",
      "'GeekBrains-DataBase-Homeworks'\n",
      "'GeekBrains-DataScience-Homeworks'\n",
      "'GeekBrains-InternetParsing-Homeworks'\n"
     ]
    }
   ],
   "source": [
    "from pprint import pprint\n",
    "import requests\n",
    "import json\n",
    "\n",
    "user = 'dranovm'\n",
    "main_link = f'https://api.github.com/users/{user}/repos'\n",
    "\n",
    "response = requests.get(main_link)\n",
    "data = json.loads(response.text)\n",
    "pprint(f\"Количество репозиториев у пользователя {user} - {len(data)} :\")\n",
    "for repos in data:\n",
    "    if response.ok:\n",
    "        pprint(repos['name'])\n",
    "    else:\n",
    "        print('Ошибка в получении данных с сайта GitHub')      \n",
    "with open(\"task1.json\", \"w\") as write_file:\n",
    "    json.dump(data, write_file)"
   ]
  },
  {
   "cell_type": "markdown",
   "metadata": {},
   "source": [
    "### Задание 2. \n",
    "\n",
    "Изучить список открытых API. Найти среди них любое, требующее авторизацию (любого типа). Выполнить запросы к нему, пройдя авторизацию. Ответ сервера записать в файл. "
   ]
  },
  {
   "cell_type": "code",
   "execution_count": 24,
   "metadata": {},
   "outputs": [
    {
     "name": "stdout",
     "output_type": "stream",
     "text": [
      "'Перевод текста Could I help you? будет : Я могу помочь вам?'\n"
     ]
    }
   ],
   "source": [
    "from pprint import pprint\n",
    "import requests\n",
    "import json\n",
    "\n",
    "# Формат запроса перевода\n",
    "#https://translate.yandex.net/api/v1.5/tr.json/translate\n",
    "# ? [key=<API-ключ>]\n",
    "# & [text=<переводимый текст>]\n",
    "# & [lang=<направление перевода>]\n",
    "# & [format=<формат текста>]\n",
    "# & [options=<опции перевода>]\n",
    "# & [callback=<имя callback-функции>]\n",
    "    \n",
    "text = 'Could I help you?' # текст который необходимо перевести\n",
    "lang = 'en-ru'\n",
    "main_link = 'https://translate.yandex.net/api/v1.5/tr.json/translate'\n",
    "API_key = 'вставить свой ключ'\n",
    "\n",
    "params = {'key': API_key,\n",
    "          'text': text,\n",
    "          'lang': lang}\n",
    "response = requests.get(main_link,params=params)\n",
    "if response.ok:\n",
    "    data = json.loads(response.text)\n",
    "    pprint(f\"Перевод текста {text} будет : {data['text'][0]}\")\n",
    "else:\n",
    "    print('Ошибка в получении данных с сайта Yandex translate')             \n",
    "with open(\"task2.json\", \"w\") as write_file:\n",
    "    json.dump(data, write_file)\n"
   ]
  },
  {
   "cell_type": "markdown",
   "metadata": {},
   "source": [
    "Инструкция к сдаче Настоятельно рекомендуем сдавать практическое задание в виде ссылки на pull request. Рекомендуемый способ организации данных в репозитории: создать отдельные папки по темам и помещать в них отдельные файлы для каждой задачи с правильным расширением. Ссылка на инструкцию по работе с git и сдачу практики: https://docs.google.com/document/d/1RAT_ukE39iOfbz1xa39QXae2hBUEZ4U6Fko_wFDdrsM/edit"
   ]
  }
 ],
 "metadata": {
  "kernelspec": {
   "display_name": "Python 3",
   "language": "python",
   "name": "python3"
  },
  "language_info": {
   "codemirror_mode": {
    "name": "ipython",
    "version": 3
   },
   "file_extension": ".py",
   "mimetype": "text/x-python",
   "name": "python",
   "nbconvert_exporter": "python",
   "pygments_lexer": "ipython3",
   "version": "3.7.4"
  }
 },
 "nbformat": 4,
 "nbformat_minor": 2
}
